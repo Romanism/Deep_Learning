{
 "cells": [
  {
   "cell_type": "markdown",
   "metadata": {},
   "source": [
    "# CHAPTER3 텐서플로 프로그래밍 101\n",
    "\n",
    "- 텐서와 그래프 실행\n",
    "- 플레이스홀더와 변수\n",
    "- 선형 회귀 모델 구현하기 "
   ]
  },
  {
   "cell_type": "markdown",
   "metadata": {},
   "source": [
    "---"
   ]
  },
  {
   "cell_type": "markdown",
   "metadata": {},
   "source": [
    "#### 3.1 텐서와 그래프 실행"
   ]
  },
  {
   "cell_type": "code",
   "execution_count": 1,
   "metadata": {},
   "outputs": [],
   "source": [
    "# library import\n",
    "import tensorflow as tf"
   ]
  },
  {
   "cell_type": "code",
   "execution_count": 2,
   "metadata": {},
   "outputs": [
    {
     "name": "stdout",
     "output_type": "stream",
     "text": [
      "Tensor(\"Const:0\", shape=(), dtype=string)\n"
     ]
    }
   ],
   "source": [
    "# store string\n",
    "hello = tf.constant('Hello, TensorFlow!')\n",
    "print(hello)"
   ]
  },
  {
   "cell_type": "code",
   "execution_count": 3,
   "metadata": {},
   "outputs": [
    {
     "name": "stdout",
     "output_type": "stream",
     "text": [
      "Tensor(\"Add:0\", shape=(), dtype=int32)\n"
     ]
    }
   ],
   "source": [
    "# store number\n",
    "a = tf.constant(10)\n",
    "b = tf.constant(32)\n",
    "c = tf.add(a, b)\n",
    "print(c)"
   ]
  },
  {
   "cell_type": "code",
   "execution_count": 4,
   "metadata": {
    "scrolled": true
   },
   "outputs": [
    {
     "name": "stdout",
     "output_type": "stream",
     "text": [
      "b'Hello, TensorFlow!'\n",
      "[10, 32, 42]\n"
     ]
    }
   ],
   "source": [
    "# sess run\n",
    "sess = tf.Session()\n",
    "print(sess.run(hello))\n",
    "print(sess.run([a, b, c]))\n",
    "sess.close()"
   ]
  },
  {
   "cell_type": "markdown",
   "metadata": {},
   "source": [
    "---"
   ]
  },
  {
   "cell_type": "markdown",
   "metadata": {},
   "source": [
    "#### 3.2 플레이스홀더와 변수"
   ]
  },
  {
   "cell_type": "code",
   "execution_count": 5,
   "metadata": {},
   "outputs": [
    {
     "name": "stdout",
     "output_type": "stream",
     "text": [
      "Tensor(\"Placeholder:0\", shape=(?, 3), dtype=float32)\n"
     ]
    }
   ],
   "source": [
    "X = tf.placeholder(tf.float32, [None, 3])\n",
    "print(X)"
   ]
  },
  {
   "cell_type": "code",
   "execution_count": 6,
   "metadata": {},
   "outputs": [],
   "source": [
    "# set data\n",
    "x_data = [[1, 2, 3], [4, 5, 6]]"
   ]
  },
  {
   "cell_type": "code",
   "execution_count": 7,
   "metadata": {},
   "outputs": [],
   "source": [
    "# hypothesis (Y = W * X + b)\n",
    "\n",
    "W = tf.Variable(tf.random_normal([3, 2]))\n",
    "b = tf.Variable(tf.random_normal([2, 1]))\n",
    "\n",
    "expr = tf.matmul(X, W) + b"
   ]
  },
  {
   "cell_type": "code",
   "execution_count": 8,
   "metadata": {
    "scrolled": true
   },
   "outputs": [
    {
     "name": "stdout",
     "output_type": "stream",
     "text": [
      "=== x_data ===\n",
      "[[1, 2, 3], [4, 5, 6]]\n",
      "=== W ===\n",
      "[[ 0.57082605 -1.9791706 ]\n",
      " [-0.5771941  -0.68993014]\n",
      " [ 0.7588324   0.66768575]]\n",
      "=== b ===\n",
      "[[-0.8548289]\n",
      " [ 1.1116457]]\n",
      "=== expr ===\n",
      "[[ 0.8381061 -2.2108023]\n",
      " [ 5.0619736 -6.248573 ]]\n"
     ]
    }
   ],
   "source": [
    "# sess run\n",
    "\n",
    "sess = tf.Session()\n",
    "sess.run(tf.global_variables_initializer())\n",
    "\n",
    "print('=== x_data ===')\n",
    "print(x_data)\n",
    "\n",
    "print('=== W ===')\n",
    "print(sess.run(W))\n",
    "\n",
    "print('=== b ===')\n",
    "print(sess.run(b))\n",
    "\n",
    "print('=== expr ===')\n",
    "print(sess.run(expr, feed_dict = {X : x_data}))\n",
    "\n",
    "sess.close()"
   ]
  },
  {
   "cell_type": "markdown",
   "metadata": {},
   "source": [
    "---"
   ]
  },
  {
   "cell_type": "markdown",
   "metadata": {},
   "source": [
    "#### 3.3 선형 회귀 모델 구현하기"
   ]
  },
  {
   "cell_type": "code",
   "execution_count": 9,
   "metadata": {},
   "outputs": [],
   "source": [
    "# set data\n",
    "x_data = [1, 2, 3]\n",
    "y_data = [1, 2, 3]"
   ]
  },
  {
   "cell_type": "code",
   "execution_count": 10,
   "metadata": {},
   "outputs": [],
   "source": [
    "# hypothesis (Y = W * X + b)\n",
    "W = tf.Variable(tf.random_uniform([1], -1, 1))\n",
    "b = tf.Variable(tf.random_uniform([1], -1, 1))\n",
    "\n",
    "X = tf.placeholder(tf.float32, name = 'X')\n",
    "Y = tf.placeholder(tf.float32, name = 'Y')\n",
    "\n",
    "hypothesis = W * X + b"
   ]
  },
  {
   "cell_type": "code",
   "execution_count": 11,
   "metadata": {},
   "outputs": [],
   "source": [
    "# cost function\n",
    "cost = tf.reduce_mean(tf.square(hypothesis - Y))\n",
    "optimizer = tf.train.GradientDescentOptimizer(learning_rate=0.1)\n",
    "train_op = optimizer.minimize(cost)"
   ]
  },
  {
   "cell_type": "code",
   "execution_count": 12,
   "metadata": {},
   "outputs": [
    {
     "name": "stdout",
     "output_type": "stream",
     "text": [
      "0 1.7161437 [0.79200655] [0.6214167]\n",
      "10 0.033030868 [0.79398996] [0.46830916]\n",
      "20 0.020303283 [0.8384854] [0.36716047]\n",
      "30 0.012479951 [0.87337047] [0.28785855]\n",
      "40 0.0076711276 [0.90072083] [0.22568488]\n",
      "50 0.0047152624 [0.92216384] [0.17693985]\n",
      "60 0.0028983636 [0.93897545] [0.13872313]\n",
      "70 0.001781553 [0.952156] [0.10876071]\n",
      "80 0.0010950755 [0.96248966] [0.08526977]\n",
      "90 0.0006731195 [0.9705914] [0.06685261]\n",
      "\n",
      "=== Test ===\n",
      "X : 5, Y : [4.935581]\n",
      "X : 2.5, Y : [2.4946427]\n"
     ]
    }
   ],
   "source": [
    "# sess run\n",
    "with tf.Session() as sess:\n",
    "    sess.run(tf.global_variables_initializer())\n",
    "    \n",
    "    for step in range(100):\n",
    "        _, cost_val = sess.run([train_op, cost], feed_dict = {X : x_data, Y : y_data})\n",
    "        \n",
    "        if step % 10 == 0:\n",
    "            print(step, cost_val, sess.run(W), sess.run(b))\n",
    "        \n",
    "\n",
    "    print(\"\\n=== Test ===\")\n",
    "    print('X : 5, Y :', sess.run(hypothesis, feed_dict={X : 5}))\n",
    "    print('X : 2.5, Y :', sess.run(hypothesis, feed_dict={X : 2.5}))"
   ]
  }
 ],
 "metadata": {
  "kernelspec": {
   "display_name": "Python 3",
   "language": "python",
   "name": "python3"
  },
  "language_info": {
   "codemirror_mode": {
    "name": "ipython",
    "version": 3
   },
   "file_extension": ".py",
   "mimetype": "text/x-python",
   "name": "python",
   "nbconvert_exporter": "python",
   "pygments_lexer": "ipython3",
   "version": "3.6.5"
  }
 },
 "nbformat": 4,
 "nbformat_minor": 2
}
