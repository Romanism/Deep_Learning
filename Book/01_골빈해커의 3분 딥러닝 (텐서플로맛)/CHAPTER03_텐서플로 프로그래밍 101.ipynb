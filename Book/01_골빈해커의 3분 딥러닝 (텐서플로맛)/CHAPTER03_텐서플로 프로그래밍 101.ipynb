{
 "cells": [
  {
   "cell_type": "markdown",
   "metadata": {},
   "source": [
    "# CHAPTER3 텐서플로 프로그래밍 101\n",
    "\n",
    "- 텐서와 그래프 실행\n",
    "- 플레이스홀더와 변수\n",
    "- 선형 회귀 모델 구현하기 "
   ]
  },
  {
   "cell_type": "markdown",
   "metadata": {},
   "source": [
    "---"
   ]
  },
  {
   "cell_type": "markdown",
   "metadata": {},
   "source": [
    "#### 3.1 텐서와 그래프 실행"
   ]
  },
  {
   "cell_type": "code",
   "execution_count": 1,
   "metadata": {},
   "outputs": [],
   "source": [
    "# library import\n",
    "import tensorflow as tf"
   ]
  },
  {
   "cell_type": "code",
   "execution_count": 2,
   "metadata": {},
   "outputs": [
    {
     "name": "stdout",
     "output_type": "stream",
     "text": [
      "Tensor(\"Const:0\", shape=(), dtype=string)\n"
     ]
    }
   ],
   "source": [
    "# store string\n",
    "hello = tf.constant('Hello, TensorFlow!')\n",
    "print(hello)"
   ]
  },
  {
   "cell_type": "code",
   "execution_count": 3,
   "metadata": {},
   "outputs": [
    {
     "name": "stdout",
     "output_type": "stream",
     "text": [
      "Tensor(\"Add:0\", shape=(), dtype=int32)\n"
     ]
    }
   ],
   "source": [
    "# store number\n",
    "a = tf.constant(10)\n",
    "b = tf.constant(32)\n",
    "c = tf.add(a, b)\n",
    "print(c)"
   ]
  },
  {
   "cell_type": "code",
   "execution_count": 4,
   "metadata": {
    "scrolled": true
   },
   "outputs": [
    {
     "name": "stdout",
     "output_type": "stream",
     "text": [
      "b'Hello, TensorFlow!'\n",
      "[10, 32, 42]\n"
     ]
    }
   ],
   "source": [
    "# sess run\n",
    "sess = tf.Session()\n",
    "print(sess.run(hello))\n",
    "print(sess.run([a, b, c]))\n",
    "sess.close()"
   ]
  },
  {
   "cell_type": "markdown",
   "metadata": {},
   "source": [
    "---"
   ]
  },
  {
   "cell_type": "markdown",
   "metadata": {},
   "source": [
    "#### 3.2 플레이스홀더와 변수"
   ]
  },
  {
   "cell_type": "code",
   "execution_count": 5,
   "metadata": {},
   "outputs": [
    {
     "name": "stdout",
     "output_type": "stream",
     "text": [
      "Tensor(\"Placeholder:0\", shape=(?, 3), dtype=float32)\n"
     ]
    }
   ],
   "source": [
    "X = tf.placeholder(tf.float32, [None, 3])\n",
    "print(X)"
   ]
  },
  {
   "cell_type": "code",
   "execution_count": 6,
   "metadata": {},
   "outputs": [],
   "source": [
    "# set data\n",
    "x_data = [[1, 2, 3], [4, 5, 6]]"
   ]
  },
  {
   "cell_type": "code",
   "execution_count": 7,
   "metadata": {},
   "outputs": [],
   "source": [
    "# hypothesis (Y = W * X + b)\n",
    "\n",
    "W = tf.Variable(tf.random_normal([3, 2]))\n",
    "b = tf.Variable(tf.random_normal([2, 1]))\n",
    "\n",
    "expr = tf.matmul(X, W) + b"
   ]
  },
  {
   "cell_type": "code",
   "execution_count": 8,
   "metadata": {
    "scrolled": true
   },
   "outputs": [
    {
     "name": "stdout",
     "output_type": "stream",
     "text": [
      "=== x_data ===\n",
      "[[1, 2, 3], [4, 5, 6]]\n",
      "=== W ===\n",
      "[[-0.7062496  2.036416 ]\n",
      " [ 1.997388  -1.9257399]\n",
      " [ 0.1972875 -1.4600174]]\n",
      "=== b ===\n",
      "[[-0.22433412]\n",
      " [-0.93810135]]\n",
      "=== expr ===\n",
      "[[  3.656055   -6.4194503]\n",
      " [  7.4075656 -11.181242 ]]\n"
     ]
    }
   ],
   "source": [
    "# sess run\n",
    "\n",
    "sess = tf.Session()\n",
    "sess.run(tf.global_variables_initializer())\n",
    "\n",
    "print('=== x_data ===')\n",
    "print(x_data)\n",
    "\n",
    "print('=== W ===')\n",
    "print(sess.run(W))\n",
    "\n",
    "print('=== b ===')\n",
    "print(sess.run(b))\n",
    "\n",
    "print('=== expr ===')\n",
    "print(sess.run(expr, feed_dict = {X : x_data}))\n",
    "\n",
    "sess.close()"
   ]
  },
  {
   "cell_type": "markdown",
   "metadata": {},
   "source": [
    "---"
   ]
  },
  {
   "cell_type": "markdown",
   "metadata": {},
   "source": [
    "#### 3.3 선형 회귀 모델 구현하기"
   ]
  },
  {
   "cell_type": "code",
   "execution_count": 9,
   "metadata": {},
   "outputs": [],
   "source": [
    "# set data\n",
    "x_data = [1, 2, 3]\n",
    "y_data = [1, 2, 3]"
   ]
  },
  {
   "cell_type": "code",
   "execution_count": 10,
   "metadata": {},
   "outputs": [],
   "source": [
    "# hypothesis (Y = W * X + b)\n",
    "W = tf.Variable(tf.random_uniform([1], -1, 1))\n",
    "b = tf.Variable(tf.random_uniform([1], -1, 1))\n",
    "\n",
    "X = tf.placeholder(tf.float32, name = 'X')\n",
    "Y = tf.placeholder(tf.float32, name = 'Y')\n",
    "\n",
    "hypothesis = W * X + b"
   ]
  },
  {
   "cell_type": "code",
   "execution_count": 11,
   "metadata": {},
   "outputs": [],
   "source": [
    "# cost function\n",
    "cost = tf.reduce_mean(tf.square(hypothesis - Y))\n",
    "optimizer = tf.train.GradientDescentOptimizer(learning_rate=0.1)\n",
    "train_op = optimizer.minimize(cost)"
   ]
  },
  {
   "cell_type": "code",
   "execution_count": 12,
   "metadata": {},
   "outputs": [
    {
     "name": "stdout",
     "output_type": "stream",
     "text": [
      "10 0.007513561 [1.0982542] [-0.22335495]\n",
      "20 0.0046184123 [1.0770326] [-0.17511317]\n",
      "30 0.002838826 [1.0603945] [-0.13729095]\n",
      "40 0.0017449618 [1.04735] [-0.1076379]\n",
      "50 0.0010725834 [1.0371231] [-0.08438948]\n",
      "60 0.0006592909 [1.029105] [-0.06616243]\n",
      "70 0.00040525183 [1.0228187] [-0.05187225]\n",
      "80 0.00024909727 [1.0178902] [-0.04066848]\n",
      "90 0.00015311457 [1.0140262] [-0.03188463]\n",
      "100 9.411471e-05 [1.0109967] [-0.02499796]\n",
      "\n",
      "=== Test ===\n",
      "X : 5, Y : [5.0299854]\n",
      "X : 2.5, Y : [2.5024939]\n"
     ]
    }
   ],
   "source": [
    "# sess run\n",
    "with tf.Session() as sess:\n",
    "    sess.run(tf.global_variables_initializer())\n",
    "    \n",
    "    for step in range(100):\n",
    "        _, cost_val = sess.run([train_op, cost], feed_dict = {X : x_data, Y : y_data})\n",
    "        \n",
    "        if (step+1) % 10 == 0:\n",
    "            print(step+1, cost_val, sess.run(W), sess.run(b))\n",
    "        \n",
    "\n",
    "    print(\"\\n=== Test ===\")\n",
    "    print('X : 5, Y :', sess.run(hypothesis, feed_dict={X : 5}))\n",
    "    print('X : 2.5, Y :', sess.run(hypothesis, feed_dict={X : 2.5}))"
   ]
  }
 ],
 "metadata": {
  "kernelspec": {
   "display_name": "Python 3",
   "language": "python",
   "name": "python3"
  },
  "language_info": {
   "codemirror_mode": {
    "name": "ipython",
    "version": 3
   },
   "file_extension": ".py",
   "mimetype": "text/x-python",
   "name": "python",
   "nbconvert_exporter": "python",
   "pygments_lexer": "ipython3",
   "version": "3.6.5"
  }
 },
 "nbformat": 4,
 "nbformat_minor": 2
}
