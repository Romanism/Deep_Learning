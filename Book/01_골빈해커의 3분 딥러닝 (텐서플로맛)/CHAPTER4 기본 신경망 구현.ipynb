{
 "cells": [
  {
   "cell_type": "markdown",
   "metadata": {},
   "source": [
    "# CHAPTER4 기본 신경망 구현\n",
    "\n",
    "- 간단한 분류 모델 구현하기\n",
    "- 심층 신경망 구현하기"
   ]
  },
  {
   "cell_type": "markdown",
   "metadata": {},
   "source": [
    "---"
   ]
  },
  {
   "cell_type": "markdown",
   "metadata": {},
   "source": [
    "#### 4.1 간단한 분류 모델 구현하기"
   ]
  },
  {
   "cell_type": "code",
   "execution_count": 1,
   "metadata": {},
   "outputs": [],
   "source": [
    "# import library\n",
    "import tensorflow as tf\n",
    "import numpy as np"
   ]
  },
  {
   "cell_type": "code",
   "execution_count": 2,
   "metadata": {},
   "outputs": [],
   "source": [
    "# X data : [털, 날개] - 있으면 1, 없으면 0\n",
    "x_data = np.array([[0, 0], [1, 0], [1, 1], [0, 0], [0, 0], [0, 1]])\n",
    "\n",
    "# Y data : 기타 - [1, 0, 0], 포유류 - [0, 1, 0], 조류 - [0, 0, 1]\n",
    "y_data = np.array([[1, 0, 0], [0, 1, 0], [0, 0, 1], [1, 0, 0], [1, 0, 0], [0, 0, 1]])"
   ]
  },
  {
   "cell_type": "code",
   "execution_count": 3,
   "metadata": {
    "scrolled": true
   },
   "outputs": [],
   "source": [
    "# hypothesis\n",
    "X = tf.placeholder(tf.float32)\n",
    "Y = tf.placeholder(tf.float32)\n",
    "\n",
    "W = tf.Variable(tf.random_uniform([2, 3], -1, 1))\n",
    "b = tf.Variable(tf.zeros([3]))"
   ]
  },
  {
   "cell_type": "code",
   "execution_count": 4,
   "metadata": {},
   "outputs": [],
   "source": [
    "# ReLU\n",
    "L = tf.add(tf.matmul(X, W), b)\n",
    "L = tf.nn.relu(L)"
   ]
  },
  {
   "cell_type": "code",
   "execution_count": 5,
   "metadata": {},
   "outputs": [],
   "source": [
    "# make model\n",
    "model = tf.nn.softmax(L)\n",
    "cost = tf.reduce_mean(-tf.reduce_sum(Y * tf.log(model), axis = 1))"
   ]
  },
  {
   "cell_type": "code",
   "execution_count": 6,
   "metadata": {},
   "outputs": [],
   "source": [
    "# optimizer\n",
    "optimizer = tf.train.GradientDescentOptimizer(learning_rate=0.1)\n",
    "train_op = optimizer.minimize(cost)"
   ]
  },
  {
   "cell_type": "code",
   "execution_count": 7,
   "metadata": {},
   "outputs": [
    {
     "name": "stdout",
     "output_type": "stream",
     "text": [
      "10 1.001098\n",
      "20 0.96329933\n",
      "30 0.9326029\n",
      "40 0.90451264\n",
      "50 0.8806121\n",
      "60 0.8580546\n",
      "70 0.8383434\n",
      "80 0.81969\n",
      "90 0.80354017\n",
      "100 0.78869224\n"
     ]
    }
   ],
   "source": [
    "# sess run\n",
    "init = tf.global_variables_initializer()\n",
    "sess = tf.Session()\n",
    "sess.run(init)\n",
    "\n",
    "for step in range(100):\n",
    "    \n",
    "    sess.run(train_op, feed_dict={X : x_data, Y : y_data})\n",
    "    \n",
    "    if (step+1) % 10 == 0:\n",
    "        print(step+1, sess.run(cost, feed_dict = {X: x_data, Y: y_data}))"
   ]
  },
  {
   "cell_type": "code",
   "execution_count": 8,
   "metadata": {},
   "outputs": [
    {
     "name": "stdout",
     "output_type": "stream",
     "text": [
      "예측값 : [0 1 2 0 0 2]\n",
      "실제값 : [0 1 2 0 0 2]\n"
     ]
    }
   ],
   "source": [
    "# prediction\n",
    "prediction = tf.argmax(model, axis = 1)\n",
    "target = tf.argmax(Y, axis = 1)\n",
    "print('예측값 :', sess.run(prediction, feed_dict={X : x_data}))\n",
    "print('실제값 :', sess.run(target, feed_dict={Y : y_data}))"
   ]
  },
  {
   "cell_type": "code",
   "execution_count": 9,
   "metadata": {},
   "outputs": [
    {
     "name": "stdout",
     "output_type": "stream",
     "text": [
      "accuracy : 100.00\n"
     ]
    }
   ],
   "source": [
    "# accuracy\n",
    "is_correct = tf.equal(prediction, target)\n",
    "accurarcy = tf.reduce_mean(tf.cast(is_correct, tf.float32))\n",
    "print('accuracy : %.2f'% sess.run(accurarcy * 100, feed_dict={X : x_data, Y : y_data}))"
   ]
  },
  {
   "cell_type": "markdown",
   "metadata": {},
   "source": [
    "---"
   ]
  },
  {
   "cell_type": "markdown",
   "metadata": {},
   "source": [
    "#### 4.2 심층 신경망 구현하기"
   ]
  },
  {
   "cell_type": "code",
   "execution_count": 10,
   "metadata": {},
   "outputs": [],
   "source": [
    "# add W, b\n",
    "W1 = tf.Variable(tf.random_uniform([2, 10], -1, 1)) # [특징, 은낙층의 뉴런 수]\n",
    "W2 = tf.Variable(tf.random_uniform([10, 3], -1, 1)) # [은닉층의 뉴런 수, 분류 수]\n",
    "\n",
    "b1 = tf.Variable(tf.zeros([10])) # 은닉층의 뉴런 수\n",
    "b2 = tf.Variable(tf.zeros([3])) # 분류 수"
   ]
  },
  {
   "cell_type": "code",
   "execution_count": 11,
   "metadata": {},
   "outputs": [],
   "source": [
    "# add activate function\n",
    "L1 = tf.add(tf.matmul(X, W1), b1)\n",
    "L1 = tf.nn.relu(L1)"
   ]
  },
  {
   "cell_type": "code",
   "execution_count": 12,
   "metadata": {},
   "outputs": [],
   "source": [
    "# make model\n",
    "model = tf.add(tf.matmul(L1, W2), b2)"
   ]
  },
  {
   "cell_type": "code",
   "execution_count": 13,
   "metadata": {},
   "outputs": [
    {
     "name": "stdout",
     "output_type": "stream",
     "text": [
      "WARNING:tensorflow:From <ipython-input-13-a98310709b43>:2: softmax_cross_entropy_with_logits (from tensorflow.python.ops.nn_ops) is deprecated and will be removed in a future version.\n",
      "Instructions for updating:\n",
      "\n",
      "Future major versions of TensorFlow will allow gradients to flow\n",
      "into the labels input on backprop by default.\n",
      "\n",
      "See @{tf.nn.softmax_cross_entropy_with_logits_v2}.\n",
      "\n"
     ]
    }
   ],
   "source": [
    "# cost function\n",
    "cost = tf.reduce_mean(tf.nn.softmax_cross_entropy_with_logits(labels=Y, logits=model))"
   ]
  },
  {
   "cell_type": "code",
   "execution_count": 14,
   "metadata": {},
   "outputs": [],
   "source": [
    "# optimizer\n",
    "optimizer = tf.train.AdamOptimizer(learning_rate=0.01)\n",
    "train_op = optimizer.minimize(cost)"
   ]
  },
  {
   "cell_type": "code",
   "execution_count": 15,
   "metadata": {},
   "outputs": [
    {
     "name": "stdout",
     "output_type": "stream",
     "text": [
      "10 1.0642182\n",
      "20 0.8578544\n",
      "30 0.6967589\n",
      "40 0.5678609\n",
      "50 0.4673225\n",
      "60 0.3944734\n",
      "70 0.33457768\n",
      "80 0.27747056\n",
      "90 0.22639954\n",
      "100 0.18148442\n"
     ]
    }
   ],
   "source": [
    "# sess run\n",
    "init = tf.global_variables_initializer()\n",
    "sess = tf.Session()\n",
    "sess.run(init)\n",
    "\n",
    "for step in range(100):\n",
    "    \n",
    "    sess.run(train_op, feed_dict={X : x_data, Y : y_data})\n",
    "    \n",
    "    if (step+1) % 10 == 0:\n",
    "        print(step+1, sess.run(cost, feed_dict = {X: x_data, Y: y_data}))"
   ]
  },
  {
   "cell_type": "code",
   "execution_count": 16,
   "metadata": {},
   "outputs": [
    {
     "name": "stdout",
     "output_type": "stream",
     "text": [
      "예측값 : [0 1 2 0 0 2]\n",
      "실제값 : [0 1 2 0 0 2]\n"
     ]
    }
   ],
   "source": [
    "# prediction\n",
    "prediction = tf.argmax(model, axis = 1)\n",
    "target = tf.argmax(Y, axis = 1)\n",
    "print('예측값 :', sess.run(prediction, feed_dict={X : x_data}))\n",
    "print('실제값 :', sess.run(target, feed_dict={Y : y_data}))"
   ]
  },
  {
   "cell_type": "code",
   "execution_count": 17,
   "metadata": {},
   "outputs": [
    {
     "name": "stdout",
     "output_type": "stream",
     "text": [
      "accuracy : 100.00\n"
     ]
    }
   ],
   "source": [
    "# accuracy\n",
    "is_correct = tf.equal(prediction, target)\n",
    "accurarcy = tf.reduce_mean(tf.cast(is_correct, tf.float32))\n",
    "print('accuracy : %.2f'% sess.run(accurarcy * 100, feed_dict={X : x_data, Y : y_data}))"
   ]
  }
 ],
 "metadata": {
  "kernelspec": {
   "display_name": "Python 3",
   "language": "python",
   "name": "python3"
  },
  "language_info": {
   "codemirror_mode": {
    "name": "ipython",
    "version": 3
   },
   "file_extension": ".py",
   "mimetype": "text/x-python",
   "name": "python",
   "nbconvert_exporter": "python",
   "pygments_lexer": "ipython3",
   "version": "3.6.5"
  }
 },
 "nbformat": 4,
 "nbformat_minor": 2
}
